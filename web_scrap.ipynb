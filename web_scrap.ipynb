{
 "metadata": {
  "language_info": {
   "codemirror_mode": {
    "name": "ipython",
    "version": 3
   },
   "file_extension": ".py",
   "mimetype": "text/x-python",
   "name": "python",
   "nbconvert_exporter": "python",
   "pygments_lexer": "ipython3",
   "version": "3.8.8"
  },
  "orig_nbformat": 4,
  "kernelspec": {
   "name": "python3",
   "display_name": "Python 3.8.8 64-bit ('base': conda)"
  },
  "interpreter": {
   "hash": "1e915f0a29dc84041eaeb02b7b1a21c440e37a87b61d44d5e84a515737dc82bc"
  }
 },
 "nbformat": 4,
 "nbformat_minor": 2,
 "cells": [
  {
   "cell_type": "code",
   "execution_count": 1,
   "metadata": {},
   "outputs": [],
   "source": [
    "import pandas as pd\n",
    "import requests\n",
    "from bs4 import BeautifulSoup\n"
   ]
  },
  {
   "cell_type": "code",
   "execution_count": 2,
   "metadata": {},
   "outputs": [],
   "source": [
    "\n",
    "links=[]\n",
    "news=[]\n",
    "page = 'https://www.ndtv.com/india/page-'\n",
    "for i in range(1,11):\n",
    "    links.append(page+str(i))\n",
    "# print(link)\n",
    "for link in links:\n",
    "    r=requests.get(link)\n",
    "    data = r.text\n",
    "    soup = BeautifulSoup(data, \"html.parser\")\n",
    "    news_found=soup.findAll(attrs={'class':'newsHdng'})\n",
    "    headlines=news_found[0].text.replace('\\t',\"\").replace('\\n',\"\")\n",
    "    data=[[headlines]]\n",
    "\n",
    "    news.append(soup.get_text())\n",
    "    "
   ]
  },
  {
   "cell_type": "code",
   "execution_count": 3,
   "metadata": {},
   "outputs": [
    {
     "output_type": "stream",
     "name": "stdout",
     "text": [
      "File saved\n"
     ]
    }
   ],
   "source": [
    "df=pd.DataFrame(news,columns=['headlines'])\n",
    "df.to_csv('output.csv')\n",
    "print('File saved')"
   ]
  },
  {
   "cell_type": "code",
   "execution_count": null,
   "metadata": {},
   "outputs": [],
   "source": []
  }
 ]
}